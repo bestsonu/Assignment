{
 "cells": [
  {
   "cell_type": "code",
   "execution_count": 10,
   "id": "4554e6db",
   "metadata": {},
   "outputs": [],
   "source": [
    "list1 = [1,2,3,4,[44,55,66,True],False,(34,56,78,89,34),{1,2,3,3,2,1},{1:34,'key2':[55,67,78,89],4:(45,22,61,34)},[56,'data science'],'Machine Learning']"
   ]
  },
  {
   "cell_type": "code",
   "execution_count": 13,
   "id": "e3e4c229",
   "metadata": {},
   "outputs": [],
   "source": [
    "def list_product(list1):\n",
    "    product = 1\n",
    "    for element in list1:\n",
    "        if isinstance(element,(int,float)):\n",
    "            product = product * element\n",
    "        elif isinstance(element,(list,tuple,set,dict)):\n",
    "            product = product*list_product(element)\n",
    "        else:    \n",
    "            pass\n",
    "    return product\n",
    "            "
   ]
  },
  {
   "cell_type": "code",
   "execution_count": 14,
   "id": "b67f9736",
   "metadata": {},
   "outputs": [
    {
     "name": "stdout",
     "output_type": "stream",
     "text": [
      "0\n"
     ]
    }
   ],
   "source": [
    "print(list_product(list1))"
   ]
  },
  {
   "cell_type": "code",
   "execution_count": null,
   "id": "c619e458",
   "metadata": {},
   "outputs": [],
   "source": [
    "a=z\n",
    "b=y\n",
    "c=x\n",
    " =$\n"
   ]
  },
  {
   "cell_type": "code",
   "execution_count": 16,
   "id": "7fd0b25e",
   "metadata": {},
   "outputs": [],
   "source": [
    "intput = 'I want to become a Data Scientist'"
   ]
  },
  {
   "cell_type": "code",
   "execution_count": 17,
   "id": "23646917",
   "metadata": {},
   "outputs": [],
   "source": [
    "st = intput.lower()"
   ]
  },
  {
   "cell_type": "code",
   "execution_count": 25,
   "id": "e0912e4f",
   "metadata": {},
   "outputs": [
    {
     "data": {
      "text/plain": [
       "'i$wznt$to$yexome$z$dztz$sxientist'"
      ]
     },
     "execution_count": 25,
     "metadata": {},
     "output_type": "execute_result"
    }
   ],
   "source": [
    "st.replace('a','z').replace('b','y',).replace('c','x').replace(' ','$')\n"
   ]
  },
  {
   "cell_type": "code",
   "execution_count": null,
   "id": "b883a321",
   "metadata": {},
   "outputs": [],
   "source": []
  }
 ],
 "metadata": {
  "kernelspec": {
   "display_name": "Python 3 (ipykernel)",
   "language": "python",
   "name": "python3"
  },
  "language_info": {
   "codemirror_mode": {
    "name": "ipython",
    "version": 3
   },
   "file_extension": ".py",
   "mimetype": "text/x-python",
   "name": "python",
   "nbconvert_exporter": "python",
   "pygments_lexer": "ipython3",
   "version": "3.9.7"
  }
 },
 "nbformat": 4,
 "nbformat_minor": 5
}
