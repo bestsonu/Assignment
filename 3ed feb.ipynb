{
 "cells": [
  {
   "cell_type": "markdown",
   "id": "f28f14a6",
   "metadata": {},
   "source": [
    "# Question 1"
   ]
  },
  {
   "cell_type": "markdown",
   "id": "59dfbcbc",
   "metadata": {},
   "source": [
    "### def keyword is used to create a function"
   ]
  },
  {
   "cell_type": "code",
   "execution_count": 1,
   "id": "f035e42f",
   "metadata": {},
   "outputs": [],
   "source": [
    "l = [i for i in range(26)]"
   ]
  },
  {
   "cell_type": "markdown",
   "id": "aa751c57",
   "metadata": {},
   "source": [
    "l"
   ]
  },
  {
   "cell_type": "code",
   "execution_count": 2,
   "id": "bb1d1f0f",
   "metadata": {},
   "outputs": [],
   "source": [
    "def odd_num(n):\n",
    "    l = []\n",
    "    for i in n:\n",
    "        if i%2!=0:\n",
    "            l.append(i)\n",
    "    return l"
   ]
  },
  {
   "cell_type": "code",
   "execution_count": 3,
   "id": "f84cd094",
   "metadata": {},
   "outputs": [
    {
     "data": {
      "text/plain": [
       "[1, 3, 5, 7, 9, 11, 13, 15, 17, 19, 21, 23, 25]"
      ]
     },
     "execution_count": 3,
     "metadata": {},
     "output_type": "execute_result"
    }
   ],
   "source": [
    "odd_num(l)"
   ]
  },
  {
   "cell_type": "markdown",
   "id": "17fc550e",
   "metadata": {},
   "source": [
    "## Question 2"
   ]
  },
  {
   "cell_type": "raw",
   "id": "ff577f0f",
   "metadata": {},
   "source": [
    "*args -> If we store the output of the function in tuple , we use *args\n",
    "**kwargs -> If we store the output of the function in dictionary , we use **kwargs argument"
   ]
  },
  {
   "cell_type": "code",
   "execution_count": 4,
   "id": "eab0892a",
   "metadata": {},
   "outputs": [],
   "source": [
    "def test1(*args):\n",
    "    return args"
   ]
  },
  {
   "cell_type": "code",
   "execution_count": 5,
   "id": "f595a547",
   "metadata": {},
   "outputs": [
    {
     "data": {
      "text/plain": [
       "(23, 45, 'as', 56)"
      ]
     },
     "execution_count": 5,
     "metadata": {},
     "output_type": "execute_result"
    }
   ],
   "source": [
    "test1(23,45,'as',56)"
   ]
  },
  {
   "cell_type": "code",
   "execution_count": 6,
   "id": "1c35953b",
   "metadata": {},
   "outputs": [],
   "source": [
    "def test2(**kwargs):\n",
    "    return kwargs"
   ]
  },
  {
   "cell_type": "code",
   "execution_count": 7,
   "id": "42d71f42",
   "metadata": {},
   "outputs": [
    {
     "data": {
      "text/plain": [
       "{'a': 'sonu', 'b': 345}"
      ]
     },
     "execution_count": 7,
     "metadata": {},
     "output_type": "execute_result"
    }
   ],
   "source": [
    "test2(a = 'sonu',b = 345)"
   ]
  },
  {
   "cell_type": "markdown",
   "id": "b3494501",
   "metadata": {},
   "source": [
    "## Question 3"
   ]
  },
  {
   "cell_type": "raw",
   "id": "9d36866e",
   "metadata": {},
   "source": [
    "Iterator -> Iterator is a method by which we can iterate the data such as list , tuple.\n",
    "iter() is used to initialize the iterator object.\n",
    "next() is used for iteration."
   ]
  },
  {
   "cell_type": "code",
   "execution_count": 8,
   "id": "10f01df2",
   "metadata": {},
   "outputs": [],
   "source": [
    "l1 = [i for i in range(2,21,2)]"
   ]
  },
  {
   "cell_type": "code",
   "execution_count": 9,
   "id": "a670b271",
   "metadata": {},
   "outputs": [],
   "source": [
    "l = iter(l1)"
   ]
  },
  {
   "cell_type": "code",
   "execution_count": 10,
   "id": "b6445800",
   "metadata": {},
   "outputs": [
    {
     "data": {
      "text/plain": [
       "2"
      ]
     },
     "execution_count": 10,
     "metadata": {},
     "output_type": "execute_result"
    }
   ],
   "source": [
    "next(l)"
   ]
  },
  {
   "cell_type": "code",
   "execution_count": 11,
   "id": "2c01940f",
   "metadata": {},
   "outputs": [
    {
     "data": {
      "text/plain": [
       "4"
      ]
     },
     "execution_count": 11,
     "metadata": {},
     "output_type": "execute_result"
    }
   ],
   "source": [
    "next(l)"
   ]
  },
  {
   "cell_type": "code",
   "execution_count": 12,
   "id": "44530488",
   "metadata": {},
   "outputs": [
    {
     "data": {
      "text/plain": [
       "6"
      ]
     },
     "execution_count": 12,
     "metadata": {},
     "output_type": "execute_result"
    }
   ],
   "source": [
    "next(l)"
   ]
  },
  {
   "cell_type": "code",
   "execution_count": 13,
   "id": "cb1de4c0",
   "metadata": {},
   "outputs": [
    {
     "data": {
      "text/plain": [
       "8"
      ]
     },
     "execution_count": 13,
     "metadata": {},
     "output_type": "execute_result"
    }
   ],
   "source": [
    "next(l)"
   ]
  },
  {
   "cell_type": "code",
   "execution_count": 14,
   "id": "6264bc6a",
   "metadata": {},
   "outputs": [
    {
     "data": {
      "text/plain": [
       "10"
      ]
     },
     "execution_count": 14,
     "metadata": {},
     "output_type": "execute_result"
    }
   ],
   "source": [
    "next(l)"
   ]
  },
  {
   "cell_type": "markdown",
   "id": "ea56c897",
   "metadata": {},
   "source": [
    "## Question 4"
   ]
  },
  {
   "cell_type": "raw",
   "id": "3bb37817",
   "metadata": {},
   "source": [
    "Generator function -> it returns an iterator that produces a sequence of values when iterated over.\n",
    "Yield -> by use of yield keyword we create generator function and it controls the flow of a generator function"
   ]
  },
  {
   "cell_type": "code",
   "execution_count": 15,
   "id": "283a0c87",
   "metadata": {},
   "outputs": [
    {
     "data": {
      "text/plain": [
       "<generator object test_1 at 0x000001BF2AC2E820>"
      ]
     },
     "execution_count": 15,
     "metadata": {},
     "output_type": "execute_result"
    }
   ],
   "source": [
    "def test_1(n):\n",
    "    a,b = 0,1\n",
    "    for i in range(n):\n",
    "        yield a\n",
    "        a,b = b,a+b\n",
    "test_1(10)"
   ]
  },
  {
   "cell_type": "code",
   "execution_count": 16,
   "id": "be720906",
   "metadata": {},
   "outputs": [
    {
     "name": "stdout",
     "output_type": "stream",
     "text": [
      "0\n",
      "1\n",
      "1\n",
      "2\n",
      "3\n",
      "5\n",
      "8\n",
      "13\n",
      "21\n",
      "34\n"
     ]
    }
   ],
   "source": [
    "for i in test_1(10):\n",
    "    print(i)"
   ]
  },
  {
   "cell_type": "markdown",
   "id": "0e75cccd",
   "metadata": {},
   "source": [
    "## Question 6"
   ]
  },
  {
   "cell_type": "code",
   "execution_count": 17,
   "id": "d5d3b928",
   "metadata": {},
   "outputs": [],
   "source": [
    "def fibo(n):\n",
    "    a,b = 0,1\n",
    "    i = 1\n",
    "    while(i <= n):\n",
    "        print(a)\n",
    "        c = a+b\n",
    "        a = b\n",
    "        b = c\n",
    "        i = i+1"
   ]
  },
  {
   "cell_type": "code",
   "execution_count": 18,
   "id": "ce97e6af",
   "metadata": {},
   "outputs": [
    {
     "name": "stdout",
     "output_type": "stream",
     "text": [
      "0\n",
      "1\n",
      "1\n",
      "2\n",
      "3\n",
      "5\n",
      "8\n",
      "13\n",
      "21\n",
      "34\n"
     ]
    }
   ],
   "source": [
    "fibo(10)"
   ]
  },
  {
   "cell_type": "markdown",
   "id": "a91352c5",
   "metadata": {},
   "source": [
    "## Question 7"
   ]
  },
  {
   "cell_type": "code",
   "execution_count": 19,
   "id": "004d2f74",
   "metadata": {},
   "outputs": [],
   "source": [
    "s = 'pwskills'"
   ]
  },
  {
   "cell_type": "code",
   "execution_count": 20,
   "id": "a0d70ba4",
   "metadata": {},
   "outputs": [],
   "source": [
    "l = [ i for i in s]"
   ]
  },
  {
   "cell_type": "code",
   "execution_count": 21,
   "id": "cbde4336",
   "metadata": {},
   "outputs": [
    {
     "data": {
      "text/plain": [
       "['p', 'w', 's', 'k', 'i', 'l', 'l', 's']"
      ]
     },
     "execution_count": 21,
     "metadata": {},
     "output_type": "execute_result"
    }
   ],
   "source": [
    "l"
   ]
  },
  {
   "cell_type": "markdown",
   "id": "3de9624d",
   "metadata": {},
   "source": [
    "## Question 8"
   ]
  },
  {
   "cell_type": "code",
   "execution_count": 22,
   "id": "984f3157",
   "metadata": {},
   "outputs": [
    {
     "name": "stdout",
     "output_type": "stream",
     "text": [
      "Enter the number12321\n",
      "The number is a palindrome\n"
     ]
    }
   ],
   "source": [
    "n = int(input('Enter the number'))\n",
    "temp = n \n",
    "rev = 0\n",
    "while(n>0):\n",
    "    digit = n%10\n",
    "    rev = rev*10+digit\n",
    "    n = n//10\n",
    "if(temp == rev):\n",
    "    print(\"The number is a palindrome\")\n",
    "else:\n",
    "    print(\"The number is not a palindrom\")"
   ]
  },
  {
   "cell_type": "markdown",
   "id": "4db1c19b",
   "metadata": {},
   "source": [
    "## Question 9"
   ]
  },
  {
   "cell_type": "code",
   "execution_count": 23,
   "id": "76b87d73",
   "metadata": {},
   "outputs": [],
   "source": [
    "l1 = [i for i in range(100)]"
   ]
  },
  {
   "cell_type": "code",
   "execution_count": 24,
   "id": "d09f73d0",
   "metadata": {},
   "outputs": [
    {
     "data": {
      "text/plain": [
       "[1,\n",
       " 3,\n",
       " 5,\n",
       " 7,\n",
       " 9,\n",
       " 11,\n",
       " 13,\n",
       " 15,\n",
       " 17,\n",
       " 19,\n",
       " 21,\n",
       " 23,\n",
       " 25,\n",
       " 27,\n",
       " 29,\n",
       " 31,\n",
       " 33,\n",
       " 35,\n",
       " 37,\n",
       " 39,\n",
       " 41,\n",
       " 43,\n",
       " 45,\n",
       " 47,\n",
       " 49,\n",
       " 51,\n",
       " 53,\n",
       " 55,\n",
       " 57,\n",
       " 59,\n",
       " 61,\n",
       " 63,\n",
       " 65,\n",
       " 67,\n",
       " 69,\n",
       " 71,\n",
       " 73,\n",
       " 75,\n",
       " 77,\n",
       " 79,\n",
       " 81,\n",
       " 83,\n",
       " 85,\n",
       " 87,\n",
       " 89,\n",
       " 91,\n",
       " 93,\n",
       " 95,\n",
       " 97,\n",
       " 99]"
      ]
     },
     "execution_count": 24,
     "metadata": {},
     "output_type": "execute_result"
    }
   ],
   "source": [
    "list(filter(lambda i : i%2 != 0 ,l1))"
   ]
  }
 ],
 "metadata": {
  "kernelspec": {
   "display_name": "Python 3 (ipykernel)",
   "language": "python",
   "name": "python3"
  },
  "language_info": {
   "codemirror_mode": {
    "name": "ipython",
    "version": 3
   },
   "file_extension": ".py",
   "mimetype": "text/x-python",
   "name": "python",
   "nbconvert_exporter": "python",
   "pygments_lexer": "ipython3",
   "version": "3.9.7"
  }
 },
 "nbformat": 4,
 "nbformat_minor": 5
}
