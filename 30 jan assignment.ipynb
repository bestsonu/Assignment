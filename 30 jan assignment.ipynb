{
 "cells": [
  {
   "cell_type": "code",
   "execution_count": 1,
   "id": "14252fa3",
   "metadata": {},
   "outputs": [
    {
     "name": "stdout",
     "output_type": "stream",
     "text": [
      "Enter the percentage: 50\n",
      "D\n"
     ]
    }
   ],
   "source": [
    "# Question 1\n",
    "percentage = int(input(\"Enter the percentage: \"))\n",
    "if(percentage>90):\n",
    "    print(\"A\")\n",
    "elif (percentage>80 and percentage<= 90):\n",
    "    print(\"B\")\n",
    "elif(percentage>=60 and percentage<=80):\n",
    "    print(\"C\")\n",
    "else:\n",
    "    print(\"D\")"
   ]
  },
  {
   "cell_type": "code",
   "execution_count": 2,
   "id": "57d725fe",
   "metadata": {},
   "outputs": [
    {
     "name": "stdout",
     "output_type": "stream",
     "text": [
      "Enter the cost price of a bike: 1100\n",
      "You have to paid road tax =  55.0\n"
     ]
    }
   ],
   "source": [
    "# Question 2\n",
    "price_bike = int(input(\"Enter the cost price of a bike: \"))\n",
    "if(price_bike>100000):\n",
    "    print(\"You have to paid road tax = \",price_bike*0.15)\n",
    "elif(price_bike>50000 and price_bike<=100000):\n",
    "    print(\"You have to paid road tax = \",price_bike*0.10)\n",
    "else:\n",
    "    print(\"You have to paid road tax = \",price_bike*0.05)"
   ]
  },
  {
   "cell_type": "code",
   "execution_count": 3,
   "id": "e8bde856",
   "metadata": {},
   "outputs": [
    {
     "name": "stdout",
     "output_type": "stream",
     "text": [
      "Enter the city name: Delhi\n",
      "Famous monument of Delhi is Red Fort\n"
     ]
    }
   ],
   "source": [
    "# Question 3\n",
    "city_name = input(\"Enter the city name: \")\n",
    "if(city_name == \"Delhi\"):\n",
    "    print(\"Famous monument of Delhi is Red Fort\")\n",
    "elif(city_name == \"Agra\"):\n",
    "    print(\"Famous monument of Agra is Taj Mahal\")\n",
    "elif(city_name == \"Jaipur\"):\n",
    "    print(\"Famous monument of Jaipur is Jal Mahal\")\n",
    "else:\n",
    "    print(\"Invailid input\")"
   ]
  },
  {
   "cell_type": "code",
   "execution_count": 4,
   "id": "4dbd8f8f",
   "metadata": {},
   "outputs": [
    {
     "name": "stdout",
     "output_type": "stream",
     "text": [
      "Enter any number : 5531\n",
      "5531  is  0  times divided by 3\n"
     ]
    }
   ],
   "source": [
    "# Question 4\n",
    "n = int(input(\"Enter any number : \"))\n",
    "num = n\n",
    "count = 0\n",
    "temp = 0\n",
    "while(num>10 and num%3 == 0):\n",
    "    temp = num//3\n",
    "    count = count + 1\n",
    "    num = temp\n",
    "\n",
    "print(n,' is ',count,\" times divided by 3\")"
   ]
  },
  {
   "cell_type": "raw",
   "id": "c059978c",
   "metadata": {},
   "source": [
    "# Question 5\n",
    "while Loop -> while loop is conditional loop which check condition first then execute the code.\n",
    "when we don't know how many time our loop will bw execute then we use while loop."
   ]
  },
  {
   "cell_type": "code",
   "execution_count": 5,
   "id": "0d65472d",
   "metadata": {},
   "outputs": [
    {
     "name": "stdout",
     "output_type": "stream",
     "text": [
      "Enter the number: 4\n",
      "4  x  1  =  4\n",
      "4  x  2  =  8\n",
      "4  x  3  =  12\n",
      "4  x  4  =  16\n",
      "4  x  5  =  20\n",
      "4  x  6  =  24\n",
      "4  x  7  =  28\n",
      "4  x  8  =  32\n",
      "4  x  9  =  36\n",
      "4  x  10  =  40\n"
     ]
    }
   ],
   "source": [
    "num = int(input(\"Enter the number: \"))\n",
    "i = 1\n",
    "while(i<=10):\n",
    "    print(num,\" x \" ,i,\" = \", num*i)\n",
    "    i = i+1"
   ]
  },
  {
   "cell_type": "code",
   "execution_count": 6,
   "id": "190a3812",
   "metadata": {},
   "outputs": [
    {
     "name": "stdout",
     "output_type": "stream",
     "text": [
      "1 \n",
      "1 2 \n",
      "1 2 3 \n",
      "1 2 3 4 \n",
      "1 2 3 4 5 \n",
      "1 2 3 4 5 6 \n"
     ]
    }
   ],
   "source": [
    "# Question 6\n",
    "i = 1\n",
    "while (i <= 6):\n",
    "    j = 1\n",
    "    while(j <= i):\n",
    "        print( j ,end=\" \")\n",
    "        j = j + 1\n",
    "    print(\"\")\n",
    "    i = i + 1"
   ]
  },
  {
   "cell_type": "code",
   "execution_count": 7,
   "id": "64f1e729",
   "metadata": {},
   "outputs": [
    {
     "name": "stdout",
     "output_type": "stream",
     "text": [
      "* * * * \n",
      "\n",
      "* * * \n",
      "\n",
      "* * \n",
      "\n",
      "* \n",
      "\n",
      "\n",
      "\n"
     ]
    }
   ],
   "source": [
    "i = 5\n",
    "while(i>0):\n",
    "    j = 1\n",
    "    while(j<i):\n",
    "        print(\"*\",end=\" \")\n",
    "        j = j + 1\n",
    "    print(\"\\n\")\n",
    "    i = i - 1"
   ]
  },
  {
   "cell_type": "code",
   "execution_count": 8,
   "id": "88cfc39b",
   "metadata": {},
   "outputs": [
    {
     "name": "stdout",
     "output_type": "stream",
     "text": [
      "**************\n",
      "******__******\n",
      "*****____*****\n",
      "****______****\n",
      "***________***\n",
      "**__________**\n",
      "*____________*\n"
     ]
    }
   ],
   "source": [
    "rows = 14\n",
    "print(\"*\" * rows, end=\"\\n\")\n",
    "i = (rows // 2) - 1\n",
    "j = 2\n",
    "while i != 0:\n",
    "    while j <= (rows - 2):\n",
    "        print(\"*\" * i, end=\"\")\n",
    "        print(\"_\" * j, end=\"\")\n",
    "        print(\"*\" * i, end=\"\\n\")\n",
    "        i = i - 1\n",
    "        j = j + 2"
   ]
  },
  {
   "cell_type": "code",
   "execution_count": 9,
   "id": "b3a2bbd2",
   "metadata": {},
   "outputs": [
    {
     "name": "stdout",
     "output_type": "stream",
     "text": [
      "10\n",
      "9\n",
      "8\n",
      "7\n",
      "6\n",
      "5\n",
      "4\n",
      "3\n",
      "2\n",
      "1\n"
     ]
    }
   ],
   "source": [
    "# Question 7\n",
    "i = 10\n",
    "while(i>=1):\n",
    "    print(i)\n",
    "    i = i-1"
   ]
  }
 ],
 "metadata": {
  "kernelspec": {
   "display_name": "Python 3 (ipykernel)",
   "language": "python",
   "name": "python3"
  },
  "language_info": {
   "codemirror_mode": {
    "name": "ipython",
    "version": 3
   },
   "file_extension": ".py",
   "mimetype": "text/x-python",
   "name": "python",
   "nbconvert_exporter": "python",
   "pygments_lexer": "ipython3",
   "version": "3.9.7"
  }
 },
 "nbformat": 4,
 "nbformat_minor": 5
}
