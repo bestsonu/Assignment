{
 "cells": [
  {
   "cell_type": "code",
   "execution_count": 1,
   "id": "bd5dbe30",
   "metadata": {},
   "outputs": [
    {
     "name": "stdout",
     "output_type": "stream",
     "text": [
      "i * 2 = 2\n",
      "i * 2 = 4\n",
      "i * 2 = 6\n",
      "i * 2 = 8\n",
      "i * 2 = 10\n",
      "i * 2 = 12\n",
      "i * 2 = 14\n",
      "i * 2 = 16\n",
      "i * 2 = 18\n",
      "i * 2 = 20\n"
     ]
    }
   ],
   "source": [
    "# question 1\n",
    "# we use for loop when we know that how many time our code is going to be execute\n",
    "for i in range(1,11):\n",
    "    print('i','*','2','=',i*2)"
   ]
  },
  {
   "cell_type": "code",
   "execution_count": 2,
   "id": "2ce32d4e",
   "metadata": {},
   "outputs": [
    {
     "name": "stdout",
     "output_type": "stream",
     "text": [
      "2\n",
      "4\n",
      "6\n",
      "8\n",
      "10\n",
      "12\n",
      "14\n",
      "16\n",
      "18\n",
      "20\n",
      "22\n",
      "24\n",
      "26\n",
      "28\n",
      "30\n",
      "32\n",
      "34\n",
      "36\n",
      "38\n",
      "40\n",
      "42\n",
      "44\n",
      "46\n",
      "48\n",
      "600\n"
     ]
    }
   ],
   "source": [
    "# question 1\n",
    "# when we don't know how many time our loop is going to execute than we use while loop\n",
    "sum = 0 \n",
    "i = 2\n",
    "while (i<50):\n",
    "    if (i%2==0):\n",
    "        print(i)\n",
    "        sum = sum + i\n",
    "    i = i+1\n",
    "print(sum)"
   ]
  },
  {
   "cell_type": "code",
   "execution_count": 4,
   "id": "c0d6fd3e",
   "metadata": {},
   "outputs": [
    {
     "name": "stdout",
     "output_type": "stream",
     "text": [
      "55\n",
      "3628800\n"
     ]
    }
   ],
   "source": [
    "# question 2\n",
    "sum = 0\n",
    "for i in range(1,11):\n",
    "    sum = sum + i\n",
    "print(sum)\n",
    "product = 1\n",
    "for i in range(1,11):\n",
    "    product = product * i\n",
    "print(product)"
   ]
  },
  {
   "cell_type": "code",
   "execution_count": 8,
   "id": "7bc96169",
   "metadata": {},
   "outputs": [
    {
     "name": "stdout",
     "output_type": "stream",
     "text": [
      "55\n",
      "3628800\n"
     ]
    }
   ],
   "source": [
    "# question 2\n",
    "i = 1\n",
    "sum = 0\n",
    "product = 1\n",
    "while(i<=10):\n",
    "    sum = sum +i\n",
    "    product = product*i\n",
    "    i = i+1\n",
    "print(sum)\n",
    "print(product)"
   ]
  },
  {
   "cell_type": "code",
   "execution_count": 13,
   "id": "16eda491",
   "metadata": {},
   "outputs": [
    {
     "name": "stdout",
     "output_type": "stream",
     "text": [
      "Enter the unit consumed in a month: 310\n",
      "electricity bill:  6200 rupees\n"
     ]
    }
   ],
   "source": [
    "# question 3\n",
    "unit = int(input(\"Enter the unit consumed in a month: \"))\n",
    "if (unit>0 and unit <= 100):\n",
    "    print('electricity bill: ',unit*4.5,'rupees')\n",
    "elif(unit>100 and unit<=200):\n",
    "    print('electricity bill: ',unit*6,'rupees')\n",
    "elif(unit>200 and unit<=300):\n",
    "    print('electricity bill: ',unit*10,'rupees')\n",
    "else:\n",
    "    print('electricity bill: ',unit*20,'rupees')"
   ]
  },
  {
   "cell_type": "code",
   "execution_count": 20,
   "id": "2cf38787",
   "metadata": {},
   "outputs": [
    {
     "name": "stdout",
     "output_type": "stream",
     "text": [
      "[8, 64, 125, 216, 512, 1000, 1728, 2744, 3375, 4096, 5832, 8000, 10648, 13824, 15625, 17576, 21952, 27000, 32768, 39304, 42875, 46656, 54872, 64000, 74088, 85184, 91125, 97336, 110592, 125000, 140608, 157464, 166375, 175616, 195112, 216000, 238328, 262144, 274625, 287496, 314432, 343000, 373248, 405224, 421875, 438976, 474552, 512000, 551368, 592704, 614125, 636056, 681472, 729000, 778688, 830584, 857375, 884736, 941192, 1000000]\n"
     ]
    }
   ],
   "source": [
    "# question 4 using for loop\n",
    "l1 = [i for i in range (1,101)]\n",
    "l2 = []\n",
    "cube = 0\n",
    "for i in l1:\n",
    "    cube = i**3\n",
    "    if (cube%4==0 or cube%5==0):\n",
    "        l2.append(cube)\n",
    "print(l2)"
   ]
  },
  {
   "cell_type": "code",
   "execution_count": 23,
   "id": "66dab680",
   "metadata": {},
   "outputs": [
    {
     "name": "stdout",
     "output_type": "stream",
     "text": [
      "[8, 64, 125, 216, 512, 1000, 1728, 2744, 3375, 4096, 5832, 8000, 10648, 13824, 15625, 17576, 21952, 27000, 32768, 39304, 42875, 46656, 54872, 64000, 74088, 85184, 91125, 97336, 110592, 125000, 140608, 157464, 166375, 175616, 195112, 216000, 238328, 262144, 274625, 287496, 314432, 343000, 373248, 405224, 421875, 438976, 474552, 512000, 551368, 592704, 614125, 636056, 681472, 729000, 778688, 830584, 857375, 884736, 941192, 1000000]\n"
     ]
    }
   ],
   "source": [
    "# question using while loop\n",
    "l1 = [i for i in range (1,101)]\n",
    "l2 = []\n",
    "cube = 0\n",
    "i = 1\n",
    "while (i<=100):\n",
    "    cube = i**3\n",
    "    if(cube % 4 == 0 or cube % 5 == 0):\n",
    "         l2.append(cube)\n",
    "    i = i+1\n",
    "print(l2)"
   ]
  },
  {
   "cell_type": "code",
   "execution_count": 28,
   "id": "c8828cf7",
   "metadata": {},
   "outputs": [
    {
     "name": "stdout",
     "output_type": "stream",
     "text": [
      "12\n"
     ]
    }
   ],
   "source": [
    "# question 5\n",
    "str = \"i want to become a data scientist\"\n",
    "list =['a','e','i','o','u']\n",
    "count = 0\n",
    "for i in str:\n",
    "    if i in list:\n",
    "        count = count + 1\n",
    "print(count)"
   ]
  },
  {
   "cell_type": "code",
   "execution_count": null,
   "id": "b2d8f200",
   "metadata": {},
   "outputs": [],
   "source": []
  }
 ],
 "metadata": {
  "kernelspec": {
   "display_name": "Python 3 (ipykernel)",
   "language": "python",
   "name": "python3"
  },
  "language_info": {
   "codemirror_mode": {
    "name": "ipython",
    "version": 3
   },
   "file_extension": ".py",
   "mimetype": "text/x-python",
   "name": "python",
   "nbconvert_exporter": "python",
   "pygments_lexer": "ipython3",
   "version": "3.9.7"
  }
 },
 "nbformat": 4,
 "nbformat_minor": 5
}
