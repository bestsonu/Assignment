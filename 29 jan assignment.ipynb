{
 "cells": [
  {
   "cell_type": "raw",
   "id": "70ea3ea7",
   "metadata": {},
   "source": [
    "Question 1\n",
    "Guido Van Rossum developed python programming language."
   ]
  },
  {
   "cell_type": "raw",
   "id": "58163532",
   "metadata": {},
   "source": [
    "Qestion 2\n",
    "Python support object oriented programming language."
   ]
  },
  {
   "cell_type": "raw",
   "id": "03d3e94a",
   "metadata": {},
   "source": [
    "Question 3\n",
    "yes,Python is case sensative when dealing with identifiers."
   ]
  },
  {
   "cell_type": "raw",
   "id": "3fca3480",
   "metadata": {},
   "source": [
    "Question 4\n",
    "Correct extension of the python file is \".py\"."
   ]
  },
  {
   "cell_type": "raw",
   "id": "9d107cd8",
   "metadata": {},
   "source": [
    "Question 5\n",
    "Python code is interpreted."
   ]
  },
  {
   "cell_type": "code",
   "execution_count": 2,
   "id": "d2badd2c",
   "metadata": {},
   "outputs": [
    {
     "name": "stdout",
     "output_type": "stream",
     "text": [
      "True\n"
     ]
    }
   ],
   "source": [
    "# Question 6\n",
    "a = 5\n",
    "if a>4:\n",
    "    print(\"True\")\n",
    "else:\n",
    "    print(\"False\")"
   ]
  },
  {
   "cell_type": "code",
   "execution_count": 9,
   "id": "0b5aaf02",
   "metadata": {},
   "outputs": [
    {
     "data": {
      "text/plain": [
       "120"
      ]
     },
     "execution_count": 9,
     "metadata": {},
     "output_type": "execute_result"
    }
   ],
   "source": [
    "def fact(n):\n",
    "    if n<=1:\n",
    "        return 1\n",
    "    else:\n",
    "        return n*fact(n-1)\n",
    "fact(5)"
   ]
  },
  {
   "cell_type": "raw",
   "id": "306fd7c3",
   "metadata": {},
   "source": [
    "Question 7\n",
    "for single line comment --> #"
   ]
  },
  {
   "cell_type": "code",
   "execution_count": 11,
   "id": "d3b4afa6",
   "metadata": {},
   "outputs": [],
   "source": [
    "# Question 8\n",
    "import sys\n",
    "sys.version"
   ]
  },
  {
   "cell_type": "raw",
   "id": "eb90f860",
   "metadata": {},
   "source": [
    "Question 9\n",
    "Python supports the creation of anonymouse of function at runtime , using a construct called lambda."
   ]
  },
  {
   "cell_type": "raw",
   "id": "e97c95ef",
   "metadata": {},
   "source": [
    "Question 10\n",
    "Pip is a package manager for Python,which means it is a tool that helps you to install and manage libraries and modules that are not part of the standard Python library."
   ]
  },
  {
   "cell_type": "raw",
   "id": "a0d845c6",
   "metadata": {},
   "source": [
    "Question 11\n",
    "Few built in function in python:\n",
    "    bool()\n",
    "    len()\n",
    "    max()\n",
    "    min()\n",
    "    bin()\n",
    "    type()\n",
    "    "
   ]
  },
  {
   "cell_type": "raw",
   "id": "68833f02",
   "metadata": {},
   "source": [
    "Question 12\n",
    "Maximun possible length of the identifier in python is 79 character."
   ]
  },
  {
   "cell_type": "raw",
   "id": "0adc9612",
   "metadata": {},
   "source": [
    "Question 13\n",
    "1> write less code.\n",
    "2>Python is open source and free.\n",
    "3>Python is platform-independent.\n",
    "4>Python is an interpreted programming language that does not need to be         compiled before execution.\n",
    "5>Python supports OOPs concept."
   ]
  },
  {
   "cell_type": "raw",
   "id": "f8c4be3d",
   "metadata": {},
   "source": [
    "Question 14\n",
    "Python's memory manager uses a technique called reference countion to keep track of how many references or variables points to an object in memory.Each object has a reference count attribute that stores this number.When an object is created,its reference count is set to one.When a new reference is created,such as by assigning the object to another variable or passing it as an argument to a function,the refernce count is incremented by one. When a refernce is deleted,such using the \"del\" statement or reassigning a variable, the reference count is decremented by one."
   ]
  },
  {
   "cell_type": "raw",
   "id": "755e0912",
   "metadata": {},
   "source": [
    "Question 15\n",
    "1.Download the python form official website python.org\n",
    "2.If you want to manually add Python to your path variables, you can do so by following these steps:\n",
    "Open the Control Panel and go to System and Security > System > Advanced system settings.\n",
    "Click on the Environment Variables button at the bottom of the window.\n",
    "In the User variables section, select the variable named PATH and click on Edit. If there is no such variable, click on New and create one with the name PATH.\n",
    "In the Edit environment variable window, click on New and add the path to the folder where Python is installed. For example, C:\\Users\\username\\AppData\\Local\\Programs\\Python\\Python39\\. You can also add the path to the Scripts folder, which contains useful tools for Python development. For example, C:\\Users\\username\\AppData\\Local\\Programs\\Python\\Python39\\Scripts\\.\n",
    "Click on OK to save the changes and close all the windows.\n",
    "Restart your command prompt and type python --version again to check if Python is added to your path."
   ]
  },
  {
   "cell_type": "raw",
   "id": "813cf68c",
   "metadata": {},
   "source": [
    "Question 16\n",
    "Yes,indentation is required in python ."
   ]
  },
  {
   "cell_type": "code",
   "execution_count": null,
   "id": "49828f10",
   "metadata": {},
   "outputs": [],
   "source": []
  }
 ],
 "metadata": {
  "kernelspec": {
   "display_name": "Python 3 (ipykernel)",
   "language": "python",
   "name": "python3"
  },
  "language_info": {
   "codemirror_mode": {
    "name": "ipython",
    "version": 3
   },
   "file_extension": ".py",
   "mimetype": "text/x-python",
   "name": "python",
   "nbconvert_exporter": "python",
   "pygments_lexer": "ipython3",
   "version": "3.9.7"
  }
 },
 "nbformat": 4,
 "nbformat_minor": 5
}
