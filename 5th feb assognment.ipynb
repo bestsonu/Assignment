{
 "cells": [
  {
   "cell_type": "code",
   "execution_count": 1,
   "id": "9366acd0",
   "metadata": {},
   "outputs": [],
   "source": [
    "# Question 1"
   ]
  },
  {
   "cell_type": "raw",
   "id": "543376e2",
   "metadata": {},
   "source": [
    "A Class is like an object constructor, or a \"blueprint\" for creating objects.\n"
   ]
  },
  {
   "cell_type": "code",
   "execution_count": 3,
   "id": "21fba71d",
   "metadata": {},
   "outputs": [
    {
     "data": {
      "text/plain": [
       "__main__.MyClass"
      ]
     },
     "execution_count": 3,
     "metadata": {},
     "output_type": "execute_result"
    }
   ],
   "source": [
    "class MyClass:\n",
    "  x = 5\n",
    "MyClass"
   ]
  },
  {
   "cell_type": "code",
   "execution_count": 4,
   "id": "ff727a42",
   "metadata": {},
   "outputs": [
    {
     "data": {
      "text/plain": [
       "5"
      ]
     },
     "execution_count": 4,
     "metadata": {},
     "output_type": "execute_result"
    }
   ],
   "source": [
    "p1 = MyClass()\n",
    "p1.x"
   ]
  },
  {
   "cell_type": "raw",
   "id": "c9e45898",
   "metadata": {},
   "source": [
    "# Question 2\n",
    "Encapsulation\n",
    "Inheritance\n",
    "Polymorphism\n",
    "Abstraction"
   ]
  },
  {
   "cell_type": "raw",
   "id": "681cb3df",
   "metadata": {},
   "source": [
    "# Question 3\n",
    "use the __init__() function to assign values to the object"
   ]
  },
  {
   "cell_type": "code",
   "execution_count": 5,
   "id": "13af8c1a",
   "metadata": {},
   "outputs": [],
   "source": [
    "class myself:\n",
    "    def __init__(self,name,age):\n",
    "        self.name = name\n",
    "        self.age = age"
   ]
  },
  {
   "cell_type": "code",
   "execution_count": 8,
   "id": "e4710871",
   "metadata": {},
   "outputs": [],
   "source": [
    "s = myself('sonu',20)"
   ]
  },
  {
   "cell_type": "code",
   "execution_count": 9,
   "id": "68353413",
   "metadata": {},
   "outputs": [
    {
     "data": {
      "text/plain": [
       "'sonu'"
      ]
     },
     "execution_count": 9,
     "metadata": {},
     "output_type": "execute_result"
    }
   ],
   "source": [
    "s.name"
   ]
  },
  {
   "cell_type": "raw",
   "id": "339350d0",
   "metadata": {},
   "source": [
    "# Question 4\n",
    "The self parameter is a reference to the current instance of the class, and is used to access variables that belongs to the class."
   ]
  },
  {
   "cell_type": "raw",
   "id": "c86d1f21",
   "metadata": {},
   "source": [
    "# Question 5\n",
    "Inheritance -> It allows us to define a class that inherits all the methods and properties from another class ."
   ]
  },
  {
   "cell_type": "code",
   "execution_count": 8,
   "id": "4c19c8cb",
   "metadata": {},
   "outputs": [],
   "source": [
    "class person :\n",
    "    def __init__(self , name,age):\n",
    "        self.name = name\n",
    "        self.age = age\n",
    "        \n",
    "    def namefun(self):\n",
    "        print(self.name , self.age)"
   ]
  },
  {
   "cell_type": "code",
   "execution_count": 9,
   "id": "c68412c5",
   "metadata": {},
   "outputs": [],
   "source": [
    "x = person('sona',23)\n"
   ]
  },
  {
   "cell_type": "code",
   "execution_count": 12,
   "id": "c180404b",
   "metadata": {},
   "outputs": [
    {
     "data": {
      "text/plain": [
       "'sona'"
      ]
     },
     "execution_count": 12,
     "metadata": {},
     "output_type": "execute_result"
    }
   ],
   "source": [
    "x.name"
   ]
  },
  {
   "cell_type": "code",
   "execution_count": 14,
   "id": "cda86377",
   "metadata": {},
   "outputs": [],
   "source": [
    "class student(person):\n",
    "    pass"
   ]
  },
  {
   "cell_type": "code",
   "execution_count": 16,
   "id": "c0195fc3",
   "metadata": {},
   "outputs": [
    {
     "name": "stdout",
     "output_type": "stream",
     "text": [
      "arrav arnv\n"
     ]
    }
   ],
   "source": [
    "x = student(\"arrav\" , \"arnv\")\n",
    "x.namefun()"
   ]
  },
  {
   "cell_type": "code",
   "execution_count": null,
   "id": "6fdd3f6a",
   "metadata": {},
   "outputs": [],
   "source": []
  }
 ],
 "metadata": {
  "kernelspec": {
   "display_name": "Python 3 (ipykernel)",
   "language": "python",
   "name": "python3"
  },
  "language_info": {
   "codemirror_mode": {
    "name": "ipython",
    "version": 3
   },
   "file_extension": ".py",
   "mimetype": "text/x-python",
   "name": "python",
   "nbconvert_exporter": "python",
   "pygments_lexer": "ipython3",
   "version": "3.9.7"
  }
 },
 "nbformat": 4,
 "nbformat_minor": 5
}
